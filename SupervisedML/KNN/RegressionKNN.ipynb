{
 "cells": [
  {
   "cell_type": "code",
   "execution_count": 2,
   "metadata": {
    "collapsed": true
   },
   "outputs": [],
   "source": [
    "\"\"\"Regresi\tadalah cara dari supervised learning,selain classification dan regression\n",
    "Yang Diprediksi\tAngka\n",
    "Tipe Output\tContinuous\n",
    "Model Sebagai\tBest Fit Line\n",
    "score menggunakan RMSE atau R2\n",
    "LIHAT CATATAN:\n",
    "https://ilham1012.com/2019/06/11/regresi-vs-klasifikasi-apa-bedanya/\n",
    "https://tinyurl.com/s46z6p8x\"\"\"\n",
    "import pandas as pd"
   ]
  },
  {
   "cell_type": "code",
   "execution_count": 4,
   "outputs": [
    {
     "data": {
      "text/plain": "   tinggi      jk  berat\n0     158    pria     64\n1     170    pria     86\n2     183    pria     84\n3     191    pria     80\n4     155  wanita     49\n5     163  wanita     59\n6     180  wanita     67\n7     158  wanita     54\n8     170  wanita     67",
      "text/html": "<div>\n<style scoped>\n    .dataframe tbody tr th:only-of-type {\n        vertical-align: middle;\n    }\n\n    .dataframe tbody tr th {\n        vertical-align: top;\n    }\n\n    .dataframe thead th {\n        text-align: right;\n    }\n</style>\n<table border=\"1\" class=\"dataframe\">\n  <thead>\n    <tr style=\"text-align: right;\">\n      <th></th>\n      <th>tinggi</th>\n      <th>jk</th>\n      <th>berat</th>\n    </tr>\n  </thead>\n  <tbody>\n    <tr>\n      <th>0</th>\n      <td>158</td>\n      <td>pria</td>\n      <td>64</td>\n    </tr>\n    <tr>\n      <th>1</th>\n      <td>170</td>\n      <td>pria</td>\n      <td>86</td>\n    </tr>\n    <tr>\n      <th>2</th>\n      <td>183</td>\n      <td>pria</td>\n      <td>84</td>\n    </tr>\n    <tr>\n      <th>3</th>\n      <td>191</td>\n      <td>pria</td>\n      <td>80</td>\n    </tr>\n    <tr>\n      <th>4</th>\n      <td>155</td>\n      <td>wanita</td>\n      <td>49</td>\n    </tr>\n    <tr>\n      <th>5</th>\n      <td>163</td>\n      <td>wanita</td>\n      <td>59</td>\n    </tr>\n    <tr>\n      <th>6</th>\n      <td>180</td>\n      <td>wanita</td>\n      <td>67</td>\n    </tr>\n    <tr>\n      <th>7</th>\n      <td>158</td>\n      <td>wanita</td>\n      <td>54</td>\n    </tr>\n    <tr>\n      <th>8</th>\n      <td>170</td>\n      <td>wanita</td>\n      <td>67</td>\n    </tr>\n  </tbody>\n</table>\n</div>"
     },
     "execution_count": 4,
     "metadata": {},
     "output_type": "execute_result"
    }
   ],
   "source": [
    "sensus = {'tinggi' : [158,170,183,191,155,163,180,158,170],\n",
    "          'jk': ['pria','pria','pria','pria','wanita','wanita','wanita','wanita','wanita',],\n",
    "          'berat': [64,86,84,80,49,59,67,54,67]}\n",
    "\n",
    "sensus_df = pd.DataFrame(sensus)\n",
    "sensus_df"
   ],
   "metadata": {
    "collapsed": false,
    "pycharm": {
     "name": "#%%\n"
    }
   }
  },
  {
   "cell_type": "code",
   "execution_count": 7,
   "outputs": [
    {
     "name": "stdout",
     "output_type": "stream",
     "text": [
      "X_train \n",
      " [[158 'pria']\n",
      " [170 'pria']\n",
      " [183 'pria']\n",
      " [191 'pria']\n",
      " [155 'wanita']\n",
      " [163 'wanita']\n",
      " [180 'wanita']\n",
      " [158 'wanita']\n",
      " [170 'wanita']]\n",
      "\n",
      "y_train \n",
      " [64 86 84 80 49 59 67 54 67]\n"
     ]
    }
   ],
   "source": [
    "import numpy as np\n",
    "X_train = np.array(sensus_df[['tinggi','jk']])\n",
    "y_train = np.array(sensus_df['berat'])\n",
    "print(f'X_train \\n {X_train}\\n')\n",
    "print(f'y_train \\n {y_train}')\n"
   ],
   "metadata": {
    "collapsed": false,
    "pycharm": {
     "name": "#%%\n"
    }
   }
  },
  {
   "cell_type": "code",
   "execution_count": 12,
   "outputs": [],
   "source": [
    "\"\"\"label binrizer Digunakan untuk mengganti label pria dan wanita menjadi 0 dan 1\n",
    "sedangkan jika lbeih dari 2 menggunakan label encoder dan pandas get dummy.tapi label\n",
    "encoder data harus ada jarak seperti redah medium tinggi tidak bisa dipakai di seperti merah,biru hijau kalau gitu\n",
    "gunakan hot dummy atau one hot encoding\n",
    "Scikitlearn suggests using OneHotEncoder for X matrix i.e.\n",
    "the features you feed in a model, and to use a LabelBinarizer for the y labels.\"\"\"\n",
    "X_train_transpose = np.transpose(X_train)\n",
    "from sklearn.preprocessing import LabelBinarizer\n",
    "lb = LabelBinarizer()\n",
    "jk_binarized = lb.fit_transform(X_train_transpose[1])\n",
    "jk_binarized = jk_binarized.flatten()"
   ],
   "metadata": {
    "collapsed": false,
    "pycharm": {
     "name": "#%%\n"
    }
   }
  },
  {
   "cell_type": "code",
   "execution_count": 14,
   "outputs": [
    {
     "data": {
      "text/plain": "array([[158, 0],\n       [170, 0],\n       [183, 0],\n       [191, 0],\n       [155, 1],\n       [163, 1],\n       [180, 1],\n       [158, 1],\n       [170, 1]], dtype=object)"
     },
     "execution_count": 14,
     "metadata": {},
     "output_type": "execute_result"
    }
   ],
   "source": [
    "\"\"\"disini karena jenis kelamin di index ke 1 diganti ke binarizer.Transpose\n",
    "biar menjadi hlook\"\"\"\n",
    "X_train_transpose[1] = jk_binarized\n",
    "X_train = X_train_transpose.transpose()\n",
    "X_train"
   ],
   "metadata": {
    "collapsed": false,
    "pycharm": {
     "name": "#%%\n"
    }
   }
  },
  {
   "cell_type": "code",
   "execution_count": 16,
   "outputs": [
    {
     "data": {
      "text/plain": "KNeighborsRegressor(n_neighbors=3)"
     },
     "execution_count": 16,
     "metadata": {},
     "output_type": "execute_result"
    }
   ],
   "source": [
    "\"\"\"disini perbedaan,ingar regression mencari data berdasarkan masukan,dan import regression\"\"\"\n",
    "from sklearn.neighbors import KNeighborsRegressor\n",
    "K = 3\n",
    "model = KNeighborsRegressor(n_neighbors=K)\n",
    "model.fit(X_train,y_train)"
   ],
   "metadata": {
    "collapsed": false,
    "pycharm": {
     "name": "#%%\n"
    }
   }
  },
  {
   "cell_type": "code",
   "execution_count": 17,
   "outputs": [
    {
     "data": {
      "text/plain": "array([55.66666667])"
     },
     "execution_count": 17,
     "metadata": {},
     "output_type": "execute_result"
    }
   ],
   "source": [
    "\"\"\"memprediksi masukkan atas suatu data\"\"\"\n",
    "X_new = np.array([[155,1]])\n",
    "y_pred = model.predict(X_new)\n",
    "y_pred"
   ],
   "metadata": {
    "collapsed": false,
    "pycharm": {
     "name": "#%%\n"
    }
   }
  },
  {
   "cell_type": "code",
   "execution_count": 21,
   "outputs": [],
   "source": [
    "\"\"\"testing adalah melemparkan sebagaian data,training ada melatih berdasarkan data\n",
    "awal.Testing melihat bagaimana reaksi atas model\"\"\"\n",
    "X_test = np.array([[168,0],[180,0],[160,1],[169,1]])\n",
    "y_test = np.array([65,96,52,67])"
   ],
   "metadata": {
    "collapsed": false,
    "pycharm": {
     "name": "#%%\n"
    }
   }
  },
  {
   "cell_type": "code",
   "execution_count": 20,
   "outputs": [
    {
     "data": {
      "text/plain": "array([70.66666667, 79.        , 59.        , 70.66666667])"
     },
     "execution_count": 20,
     "metadata": {},
     "output_type": "execute_result"
    }
   ],
   "source": [
    "\"\"\"bandingkan dengan y test dan y pred\"\"\"\n",
    "y_pred2 = model.predict(X_test)\n",
    "y_pred2"
   ],
   "metadata": {
    "collapsed": false,
    "pycharm": {
     "name": "#%%\n"
    }
   }
  },
  {
   "cell_type": "code",
   "execution_count": 24,
   "outputs": [
    {
     "name": "stdout",
     "output_type": "stream",
     "text": [
      "Rsquared: 0.6290565226735438\n"
     ]
    }
   ],
   "source": [
    "\"\"\"menggunakan Rsquared untuk melihat error pada model\"\"\"\n",
    "from sklearn.metrics import r2_score\n",
    "r_squared = r2_score(y_test,y_pred2)\n",
    "print(f'Rsquared: {r_squared}')"
   ],
   "metadata": {
    "collapsed": false,
    "pycharm": {
     "name": "#%%\n"
    }
   }
  },
  {
   "cell_type": "code",
   "execution_count": 25,
   "outputs": [
    {
     "name": "stdout",
     "output_type": "stream",
     "text": [
      "RMSE: 95.8888888888889\n"
     ]
    }
   ],
   "source": [
    "\"\"\"rata rata dari error kuadrat dari prediksi,beda dengan absolut adalah pangkat 2\n",
    "makin kecil mse nya model baik\n",
    "https://tentangdata.wordpress.com/tag/root-mean-squared-error/\n",
    "https://www.youtube.com/watch?v=W8adIcfv16M&list=PL2O3HdJI4voHNEv59SdXKRQVRZAFmwN9E&index=9\"\"\"\n",
    "\n",
    "from sklearn.metrics import mean_squared_error\n",
    "mean_sq = mean_squared_error(y_test,y_pred2)\n",
    "print(f'RMSE: {mean_sq}')"
   ],
   "metadata": {
    "collapsed": false,
    "pycharm": {
     "name": "#%%\n"
    }
   }
  },
  {
   "cell_type": "code",
   "execution_count": 28,
   "outputs": [
    {
     "name": "stdout",
     "output_type": "stream",
     "text": [
      "MSe: 8.333333333333336\n"
     ]
    }
   ],
   "source": [
    "\"\"\"rumus ini mengurani jumlah y-yi atau hasil prediksi y tes dan pred\n",
    "disini nilai error atau selisih prediksi dan tes semakin kecil semakin baik model\"\"\"\n",
    "from sklearn.metrics import mean_absolute_error\n",
    "mean_abs = mean_absolute_error(y_test,y_pred2)\n",
    "print(f'MSA: {mean_abs}')"
   ],
   "metadata": {
    "collapsed": false,
    "pycharm": {
     "name": "#%%\n"
    }
   }
  },
  {
   "cell_type": "code",
   "execution_count": 31,
   "outputs": [
    {
     "data": {
      "text/plain": "[60.0, 40.01249804748511]"
     },
     "execution_count": 31,
     "metadata": {},
     "output_type": "execute_result"
    }
   ],
   "source": [
    "\"\"\"perbedaan satuan menyebabka perbedaan prediksi model,dibawah ini dalam bentuk\n",
    "milimeter\"\"\"\n",
    "from scipy.spatial.distance import euclidean\n",
    "X_trainmm = np.array([[1700,0],[1600,1]])\n",
    "X_new = np.array([[1640,0]])\n",
    "[euclidean(X_new[0],d) for d in X_trainmm]\n",
    "#hasil 60 ada perbedaan 1700 - 1640"
   ],
   "metadata": {
    "collapsed": false,
    "pycharm": {
     "name": "#%%\n"
    }
   }
  },
  {
   "cell_type": "code",
   "execution_count": 32,
   "outputs": [],
   "source": [
    "\"\"\"standarized score\"\"\"\n",
    "from sklearn.preprocessing import StandardScaler\n",
    "ss = StandardScaler()\n"
   ],
   "metadata": {
    "collapsed": false,
    "pycharm": {
     "name": "#%%\n"
    }
   }
  },
  {
   "cell_type": "code",
   "execution_count": 33,
   "outputs": [
    {
     "name": "stdout",
     "output_type": "stream",
     "text": [
      "X_trainmm scaled: [[ 1. -1.]\n",
      " [-1.  1.]]\n",
      "X_new scaled: [[0. 0.]]\n",
      "jarak: [1.4142135623730951, 1.4142135623730951]\n"
     ]
    }
   ],
   "source": [
    "X_trainmm = np.array([[1700,0],[1600,1]])\n",
    "X_trainmm_scaled = ss.fit_transform(X_trainmm)\n",
    "print(f'X_trainmm scaled: {X_trainmm_scaled}')\n",
    "\n",
    "X_new = np.array([[1640,0]])\n",
    "X_new_scaled = ss.fit_transform(X_new)\n",
    "print(f'X_new scaled: {X_new_scaled}')\n",
    "\n",
    "jarak = [euclidean(X_new_scaled[0],d) for d in X_trainmm_scaled]\n",
    "print(f'jarak: {jarak}')"
   ],
   "metadata": {
    "collapsed": false,
    "pycharm": {
     "name": "#%%\n"
    }
   }
  },
  {
   "cell_type": "code",
   "execution_count": 40,
   "outputs": [],
   "source": [
    "X_train2 = np.array([[158,0],[170,0],[183,0],\n",
    "                      [191,0],[155,1],[163,1],[180,1],\n",
    "                      [158,1],[170,1]])\n",
    "y_train2 = np.array([64,86,84,80,49,59,67,54,67])\n",
    "X_test2 = np.array([[168,0],[180,0],[160,1],[169,1]])\n",
    "y_test2 = np.array([65,96,52,67])"
   ],
   "metadata": {
    "collapsed": false,
    "pycharm": {
     "name": "#%%\n"
    }
   }
  },
  {
   "cell_type": "code",
   "execution_count": 41,
   "outputs": [
    {
     "name": "stdout",
     "output_type": "stream",
     "text": [
      "X_train2_scaled: [[-0.17557375 -1.        ]\n",
      " [ 1.50993422 -1.        ]\n",
      " [-1.29924573  1.        ]\n",
      " [-0.03511475  1.        ]]\n",
      "X_test2_scaled: [[-0.17557375 -1.        ]\n",
      " [ 1.50993422 -1.        ]\n",
      " [-1.29924573  1.        ]\n",
      " [-0.03511475  1.        ]]\n"
     ]
    }
   ],
   "source": [
    "X_train2_scaled = ss.fit_transform(X_train2)\n",
    "X_test2_scaled = ss.fit_transform(X_test2)\n",
    "print(f'X_train2_scaled: {X_test2_scaled}')\n",
    "print(f'X_test2_scaled: {X_test2_scaled}')"
   ],
   "metadata": {
    "collapsed": false,
    "pycharm": {
     "name": "#%%\n"
    }
   }
  },
  {
   "cell_type": "code",
   "execution_count": 42,
   "outputs": [
    {
     "name": "stdout",
     "output_type": "stream",
     "text": [
      "MAE: 7.583333333333336\n",
      "MSE: 85.13888888888893\n"
     ]
    }
   ],
   "source": [
    "\"\"\"dengan ini kita mendpat skor lebih  baik karena bekurang dir sebelumnya\"\"\"\n",
    "model.fit(X_train2_scaled,y_train2)\n",
    "y_pred3 = model.predict(X_test2_scaled)\n",
    "MAE = mean_absolute_error(y_test2,y_pred3)\n",
    "MSE = mean_squared_error(y_test2,y_pred3)\n",
    "\n",
    "print(f'MAE: {MAE}')\n",
    "print(f'MSE: {MSE}')\n"
   ],
   "metadata": {
    "collapsed": false,
    "pycharm": {
     "name": "#%%\n"
    }
   }
  }
 ],
 "metadata": {
  "kernelspec": {
   "name": "pycharm-8f3f9fdf",
   "language": "python",
   "display_name": "PyCharm (MachineLearning)"
  },
  "language_info": {
   "codemirror_mode": {
    "name": "ipython",
    "version": 2
   },
   "file_extension": ".py",
   "mimetype": "text/x-python",
   "name": "python",
   "nbconvert_exporter": "python",
   "pygments_lexer": "ipython2",
   "version": "2.7.6"
  }
 },
 "nbformat": 4,
 "nbformat_minor": 0
}