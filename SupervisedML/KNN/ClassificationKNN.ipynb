{
 "cells": [
  {
   "cell_type": "code",
   "execution_count": 3,
   "metadata": {
    "collapsed": true
   },
   "outputs": [],
   "source": [
    "import pandas as pd\n",
    "import numpy as np"
   ]
  },
  {
   "cell_type": "code",
   "execution_count": 4,
   "outputs": [
    {
     "data": {
      "text/plain": "   tinggi  berat      jk\n0     158     64    pria\n1     170     86    pria\n2     183     84    pria\n3     191     80    pria\n4     155     49  wanita\n5     163     59  wanita\n6     180     67  wanita\n7     158     54  wanita\n8     178     67  wanita",
      "text/html": "<div>\n<style scoped>\n    .dataframe tbody tr th:only-of-type {\n        vertical-align: middle;\n    }\n\n    .dataframe tbody tr th {\n        vertical-align: top;\n    }\n\n    .dataframe thead th {\n        text-align: right;\n    }\n</style>\n<table border=\"1\" class=\"dataframe\">\n  <thead>\n    <tr style=\"text-align: right;\">\n      <th></th>\n      <th>tinggi</th>\n      <th>berat</th>\n      <th>jk</th>\n    </tr>\n  </thead>\n  <tbody>\n    <tr>\n      <th>0</th>\n      <td>158</td>\n      <td>64</td>\n      <td>pria</td>\n    </tr>\n    <tr>\n      <th>1</th>\n      <td>170</td>\n      <td>86</td>\n      <td>pria</td>\n    </tr>\n    <tr>\n      <th>2</th>\n      <td>183</td>\n      <td>84</td>\n      <td>pria</td>\n    </tr>\n    <tr>\n      <th>3</th>\n      <td>191</td>\n      <td>80</td>\n      <td>pria</td>\n    </tr>\n    <tr>\n      <th>4</th>\n      <td>155</td>\n      <td>49</td>\n      <td>wanita</td>\n    </tr>\n    <tr>\n      <th>5</th>\n      <td>163</td>\n      <td>59</td>\n      <td>wanita</td>\n    </tr>\n    <tr>\n      <th>6</th>\n      <td>180</td>\n      <td>67</td>\n      <td>wanita</td>\n    </tr>\n    <tr>\n      <th>7</th>\n      <td>158</td>\n      <td>54</td>\n      <td>wanita</td>\n    </tr>\n    <tr>\n      <th>8</th>\n      <td>178</td>\n      <td>67</td>\n      <td>wanita</td>\n    </tr>\n  </tbody>\n</table>\n</div>"
     },
     "execution_count": 4,
     "metadata": {},
     "output_type": "execute_result"
    }
   ],
   "source": [
    "sensus = {'tinggi' : [158,170,183,191,155,163,180,158,178],\n",
    "          'berat': [64,86,84,80,49,59,67,54,67],\n",
    "          'jk': ['pria','pria','pria','pria','wanita','wanita','wanita','wanita','wanita',]\n",
    "          }\n",
    "\n",
    "sensus_df = pd.DataFrame(sensus)\n",
    "sensus_df\n"
   ],
   "metadata": {
    "collapsed": false,
    "pycharm": {
     "name": "#%%\n"
    }
   }
  },
  {
   "cell_type": "code",
   "execution_count": 11,
   "outputs": [],
   "source": [
    "X_train = np.array(sensus_df[['tinggi','berat']])\n",
    "y_train = np.array(sensus_df[['jk']])"
   ],
   "metadata": {
    "collapsed": false,
    "pycharm": {
     "name": "#%%\n"
    }
   }
  },
  {
   "cell_type": "code",
   "execution_count": 12,
   "outputs": [
    {
     "data": {
      "text/plain": "array([0, 0, 0, 0, 1, 1, 1, 1, 1])"
     },
     "execution_count": 12,
     "metadata": {},
     "output_type": "execute_result"
    }
   ],
   "source": [
    "\"\"\"mengubah string menjadi numerik karna hanya 2,berbeda dengan lebih tpi harus 1 array\"\"\"\n",
    "from sklearn.preprocessing import LabelBinarizer\n",
    "lb = LabelBinarizer()\n",
    "y_train = lb.fit_transform(y_train)\n",
    "y_train = y_train.flatten()\n",
    "y_train"
   ],
   "metadata": {
    "collapsed": false,
    "pycharm": {
     "name": "#%%\n"
    }
   }
  },
  {
   "cell_type": "code",
   "execution_count": 14,
   "outputs": [
    {
     "data": {
      "text/plain": "KNeighborsClassifier(n_neighbors=3)"
     },
     "execution_count": 14,
     "metadata": {},
     "output_type": "execute_result"
    }
   ],
   "source": [
    "from sklearn.neighbors import KNeighborsClassifier\n",
    "model = KNeighborsClassifier(n_neighbors=3)\n",
    "model.fit(X_train,y_train)"
   ],
   "metadata": {
    "collapsed": false,
    "pycharm": {
     "name": "#%%\n"
    }
   }
  },
  {
   "cell_type": "code",
   "execution_count": 17,
   "outputs": [
    {
     "data": {
      "text/plain": "array([[155,  70]])"
     },
     "execution_count": 17,
     "metadata": {},
     "output_type": "execute_result"
    }
   ],
   "source": [
    "tinggi = 155\n",
    "berat = 70\n",
    "X_new = np.array([tinggi,berat]).reshape(1,-1)\n",
    "X_new"
   ],
   "metadata": {
    "collapsed": false,
    "pycharm": {
     "name": "#%%\n"
    }
   }
  },
  {
   "cell_type": "code",
   "execution_count": 18,
   "outputs": [
    {
     "data": {
      "text/plain": "array([1])"
     },
     "execution_count": 18,
     "metadata": {},
     "output_type": "execute_result"
    }
   ],
   "source": [
    "y_new = model.predict(X_new)\n",
    "y_new"
   ],
   "metadata": {
    "collapsed": false,
    "pycharm": {
     "name": "#%%\n"
    }
   }
  },
  {
   "cell_type": "code",
   "execution_count": 19,
   "outputs": [
    {
     "data": {
      "text/plain": "array(['wanita'], dtype='<U6')"
     },
     "execution_count": 19,
     "metadata": {},
     "output_type": "execute_result"
    }
   ],
   "source": [
    "lb.inverse_transform(y_new)"
   ],
   "metadata": {
    "collapsed": false,
    "pycharm": {
     "name": "#%%\n"
    }
   }
  },
  {
   "cell_type": "code",
   "execution_count": 22,
   "outputs": [],
   "source": [
    "\"\"\"eucludien digunakan untnuk mengukur jarak\"\"\"\n",
    "misterius = np.array([tinggi,berat])\n"
   ],
   "metadata": {
    "collapsed": false,
    "pycharm": {
     "name": "#%%\n"
    }
   }
  },
  {
   "cell_type": "code",
   "execution_count": 23,
   "outputs": [
    {
     "data": {
      "text/plain": "[6.708203932499369,\n 21.93171219946131,\n 31.304951684997057,\n 37.36308338453881,\n 21.0,\n 13.601470508735444,\n 25.179356624028344,\n 16.278820596099706,\n 23.194827009486403]"
     },
     "execution_count": 23,
     "metadata": {},
     "output_type": "execute_result"
    }
   ],
   "source": [
    "from scipy.spatial.distance import euclidean\n",
    "data_jarak = [euclidean(misterius,d) for d in X_train]"
   ],
   "metadata": {
    "collapsed": false,
    "pycharm": {
     "name": "#%%\n"
    }
   }
  },
  {
   "cell_type": "code",
   "execution_count": 26,
   "outputs": [
    {
     "data": {
      "text/plain": "   tinggi  berat      jk      jarak\n0     158     64    pria   6.708204\n5     163     59  wanita  13.601471\n7     158     54  wanita  16.278821\n4     155     49  wanita  21.000000\n1     170     86    pria  21.931712\n8     178     67  wanita  23.194827\n6     180     67  wanita  25.179357\n2     183     84    pria  31.304952\n3     191     80    pria  37.363083",
      "text/html": "<div>\n<style scoped>\n    .dataframe tbody tr th:only-of-type {\n        vertical-align: middle;\n    }\n\n    .dataframe tbody tr th {\n        vertical-align: top;\n    }\n\n    .dataframe thead th {\n        text-align: right;\n    }\n</style>\n<table border=\"1\" class=\"dataframe\">\n  <thead>\n    <tr style=\"text-align: right;\">\n      <th></th>\n      <th>tinggi</th>\n      <th>berat</th>\n      <th>jk</th>\n      <th>jarak</th>\n    </tr>\n  </thead>\n  <tbody>\n    <tr>\n      <th>0</th>\n      <td>158</td>\n      <td>64</td>\n      <td>pria</td>\n      <td>6.708204</td>\n    </tr>\n    <tr>\n      <th>5</th>\n      <td>163</td>\n      <td>59</td>\n      <td>wanita</td>\n      <td>13.601471</td>\n    </tr>\n    <tr>\n      <th>7</th>\n      <td>158</td>\n      <td>54</td>\n      <td>wanita</td>\n      <td>16.278821</td>\n    </tr>\n    <tr>\n      <th>4</th>\n      <td>155</td>\n      <td>49</td>\n      <td>wanita</td>\n      <td>21.000000</td>\n    </tr>\n    <tr>\n      <th>1</th>\n      <td>170</td>\n      <td>86</td>\n      <td>pria</td>\n      <td>21.931712</td>\n    </tr>\n    <tr>\n      <th>8</th>\n      <td>178</td>\n      <td>67</td>\n      <td>wanita</td>\n      <td>23.194827</td>\n    </tr>\n    <tr>\n      <th>6</th>\n      <td>180</td>\n      <td>67</td>\n      <td>wanita</td>\n      <td>25.179357</td>\n    </tr>\n    <tr>\n      <th>2</th>\n      <td>183</td>\n      <td>84</td>\n      <td>pria</td>\n      <td>31.304952</td>\n    </tr>\n    <tr>\n      <th>3</th>\n      <td>191</td>\n      <td>80</td>\n      <td>pria</td>\n      <td>37.363083</td>\n    </tr>\n  </tbody>\n</table>\n</div>"
     },
     "execution_count": 26,
     "metadata": {},
     "output_type": "execute_result"
    }
   ],
   "source": [
    "sensus_df['jarak'] = data_jarak\n",
    "sensus_df.sort_values(['jarak'])"
   ],
   "metadata": {
    "collapsed": false,
    "pycharm": {
     "name": "#%%\n"
    }
   }
  },
  {
   "cell_type": "code",
   "execution_count": 28,
   "outputs": [],
   "source": [
    "x_test = np.array([[168,65],[180,96],[160,52],[169,67]])\n",
    "y_test = lb.transform(np.array(['pria','pria','wanita','wanita'])).flatten()\n"
   ],
   "metadata": {
    "collapsed": false,
    "pycharm": {
     "name": "#%%\n"
    }
   }
  },
  {
   "cell_type": "code",
   "execution_count": 29,
   "outputs": [
    {
     "data": {
      "text/plain": "array([1, 0, 1, 1])"
     },
     "execution_count": 29,
     "metadata": {},
     "output_type": "execute_result"
    }
   ],
   "source": [
    "y_pred = model.predict(x_test)\n",
    "y_pred"
   ],
   "metadata": {
    "collapsed": false,
    "pycharm": {
     "name": "#%%\n"
    }
   }
  },
  {
   "cell_type": "code",
   "execution_count": 30,
   "outputs": [
    {
     "data": {
      "text/plain": "0.75"
     },
     "execution_count": 30,
     "metadata": {},
     "output_type": "execute_result"
    }
   ],
   "source": [
    "\"\"\"akurasi metrik membanding y test dan y pred\"\"\"\n",
    "from sklearn.metrics import accuracy_score\n",
    "acc = accuracy_score(y_test,y_pred)\n",
    "acc"
   ],
   "metadata": {
    "collapsed": false,
    "pycharm": {
     "name": "#%%\n"
    }
   }
  },
  {
   "cell_type": "code",
   "execution_count": 31,
   "outputs": [
    {
     "data": {
      "text/plain": "0.6666666666666666"
     },
     "execution_count": 31,
     "metadata": {},
     "output_type": "execute_result"
    }
   ],
   "source": [
    "\"\"\"presisi bener bener menghitung sebagai positif yg memang positif\"\"\"\n",
    "from sklearn.metrics import precision_score\n",
    "prec = precision_score(y_test,y_pred)\n",
    "prec"
   ],
   "metadata": {
    "collapsed": false,
    "pycharm": {
     "name": "#%%\n"
    }
   }
  },
  {
   "cell_type": "code",
   "execution_count": 33,
   "outputs": [
    {
     "data": {
      "text/plain": "1.0"
     },
     "execution_count": 33,
     "metadata": {},
     "output_type": "execute_result"
    }
   ],
   "source": [
    "\"\"\"recall adalah proporsi dari data pada bener bener positif dan positif oleh model\"\"\"\n",
    "from sklearn.metrics import recall_score\n",
    "rec = recall_score(y_test,y_pred)\n",
    "rec"
   ],
   "metadata": {
    "collapsed": false,
    "pycharm": {
     "name": "#%%\n"
    }
   }
  },
  {
   "cell_type": "code",
   "execution_count": 34,
   "outputs": [
    {
     "data": {
      "text/plain": "0.8"
     },
     "execution_count": 34,
     "metadata": {},
     "output_type": "execute_result"
    }
   ],
   "source": [
    "from sklearn.metrics import f1_score\n",
    "f1 = f1_score(y_test,y_pred)\n",
    "f1\n"
   ],
   "metadata": {
    "collapsed": false,
    "pycharm": {
     "name": "#%%\n"
    }
   }
  },
  {
   "cell_type": "code",
   "execution_count": 36,
   "outputs": [
    {
     "name": "stdout",
     "output_type": "stream",
     "text": [
      "Class report \n",
      "               precision    recall  f1-score   support\n",
      "\n",
      "           0       1.00      0.50      0.67         2\n",
      "           1       0.67      1.00      0.80         2\n",
      "\n",
      "    accuracy                           0.75         4\n",
      "   macro avg       0.83      0.75      0.73         4\n",
      "weighted avg       0.83      0.75      0.73         4\n",
      "\n"
     ]
    }
   ],
   "source": [
    "from sklearn.metrics import classification_report\n",
    "cr = classification_report(y_test,y_pred)\n",
    "print(f'Class report \\n {cr}')\n"
   ],
   "metadata": {
    "collapsed": false,
    "pycharm": {
     "name": "#%%\n"
    }
   }
  },
  {
   "cell_type": "code",
   "execution_count": null,
   "outputs": [],
   "source": [
    "\"\"\"metric digunakan hanya untuk biner clasifeir dan untuk 2 kelas,dianggap positif atau negatif\n",
    "makanya metric sangat timpang tinih kita hanya memperhatikan kelas 1\"\"\"\n"
   ],
   "metadata": {
    "collapsed": false,
    "pycharm": {
     "name": "#%%\n"
    }
   }
  },
  {
   "cell_type": "code",
   "execution_count": 37,
   "outputs": [
    {
     "name": "stdout",
     "output_type": "stream",
     "text": [
      "matt \n",
      " 0.5773502691896258\n"
     ]
    }
   ],
   "source": [
    "\"\"\"alternatif dari f1,kalau random prediksi,kalau prediksi random ngawur 0 kalo bener salah -1\"\"\"\n",
    "from sklearn.metrics import matthews_corrcoef\n",
    "matt = matthews_corrcoef(y_test,y_pred)\n",
    "print(f'matt \\n {matt}')\n"
   ],
   "metadata": {
    "collapsed": false,
    "pycharm": {
     "name": "#%%\n"
    }
   }
  }
 ],
 "metadata": {
  "kernelspec": {
   "name": "pycharm-8f3f9fdf",
   "language": "python",
   "display_name": "PyCharm (MachineLearning)"
  },
  "language_info": {
   "codemirror_mode": {
    "name": "ipython",
    "version": 2
   },
   "file_extension": ".py",
   "mimetype": "text/x-python",
   "name": "python",
   "nbconvert_exporter": "python",
   "pygments_lexer": "ipython2",
   "version": "2.7.6"
  }
 },
 "nbformat": 4,
 "nbformat_minor": 0
}